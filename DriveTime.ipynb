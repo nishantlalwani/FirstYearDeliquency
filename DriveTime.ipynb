{
 "cells": [
  {
   "cell_type": "code",
   "execution_count": 1,
   "metadata": {},
   "outputs": [],
   "source": [
    "pip install miceforest"
   ]
  },
  {
   "cell_type": "code",
   "execution_count": 2,
   "metadata": {},
   "outputs": [
    {
     "name": "stderr",
     "output_type": "stream",
     "text": [
      "C:\\Users\\nisha\\Anaconda3\\lib\\site-packages\\statsmodels\\tools\\_testing.py:19: FutureWarning: pandas.util.testing is deprecated. Use the functions in the public API at pandas.testing instead.\n",
      "  import pandas.util.testing as tm\n"
     ]
    }
   ],
   "source": [
    "# Importing required modules\n",
    "\n",
    "import pandas as pd \n",
    "import miceforest as mf\n",
    "import pickle\n",
    "\n",
    "from sklearn.ensemble import RandomForestClassifier\n",
    "from sklearn.metrics import accuracy_score,plot_roc_curve,accuracy_score,confusion_matrix,roc_curve,roc_auc_score\n",
    "from sklearn.model_selection import train_test_split, GridSearchCV\n",
    "from sklearn.preprocessing import StandardScaler\n",
    "from matplotlib import pyplot as plt\n",
    "import seaborn as sns\n",
    "\n",
    "from statsmodels.stats.outliers_influence import variance_inflation_factor\n",
    "import statsmodels.formula.api as smf\n",
    "\n"
   ]
  },
  {
   "cell_type": "code",
   "execution_count": 3,
   "metadata": {},
   "outputs": [],
   "source": [
    "#Reading input file \n",
    "accounts= pd.read_csv(\"account-defaults.csv\")"
   ]
  },
  {
   "cell_type": "code",
   "execution_count": 4,
   "metadata": {},
   "outputs": [
    {
     "name": "stdout",
     "output_type": "stream",
     "text": [
      "<class 'pandas.core.frame.DataFrame'>\n",
      "RangeIndex: 11250 entries, 0 to 11249\n",
      "Data columns (total 10 columns):\n",
      " #   Column                            Non-Null Count  Dtype  \n",
      "---  ------                            --------------  -----  \n",
      " 0   ID                                11250 non-null  int64  \n",
      " 1   FirstYearDelinquency              11250 non-null  int64  \n",
      " 2   AgeOldestIdentityRecord           11118 non-null  float64\n",
      " 3   AgeOldestAccount                  9910 non-null   float64\n",
      " 4   AgeNewestAutoAccount              6286 non-null   float64\n",
      " 5   TotalInquiries                    10840 non-null  float64\n",
      " 6   AvgAgeAutoAccounts                6286 non-null   float64\n",
      " 7   TotalAutoAccountsNeverDelinquent  6286 non-null   float64\n",
      " 8   WorstDelinquency                  9933 non-null   float64\n",
      " 9   HasInquiryTelecomm                11174 non-null  float64\n",
      "dtypes: float64(8), int64(2)\n",
      "memory usage: 879.0 KB\n"
     ]
    }
   ],
   "source": [
    "# Getting normal info of dataset\n",
    "accounts.info()"
   ]
  },
  {
   "cell_type": "code",
   "execution_count": 5,
   "metadata": {},
   "outputs": [
    {
     "data": {
      "text/plain": [
       "0    64.648889\n",
       "1    35.351111\n",
       "Name: FirstYearDelinquency, dtype: float64"
      ]
     },
     "execution_count": 5,
     "metadata": {},
     "output_type": "execute_result"
    }
   ],
   "source": [
    "#Checking distribution of target variable\n",
    "\n",
    "accounts[\"FirstYearDelinquency\"].value_counts(normalize=True) * 100"
   ]
  },
  {
   "cell_type": "code",
   "execution_count": 6,
   "metadata": {},
   "outputs": [],
   "source": [
    "# Splitting data into dependent and independent variable sets\n",
    "\n",
    "X=accounts.iloc[:,2:]\n",
    "y=accounts['FirstYearDelinquency']"
   ]
  },
  {
   "cell_type": "code",
   "execution_count": 7,
   "metadata": {},
   "outputs": [],
   "source": [
    "# Converting \"HasInquiryTelecomm\" feature for categorical \n",
    "\n",
    "X['HasInquiryTelecomm']=X[\"HasInquiryTelecomm\"].astype('category')"
   ]
  },
  {
   "cell_type": "code",
   "execution_count": 8,
   "metadata": {},
   "outputs": [
    {
     "data": {
      "text/html": [
       "<div>\n",
       "<style scoped>\n",
       "    .dataframe tbody tr th:only-of-type {\n",
       "        vertical-align: middle;\n",
       "    }\n",
       "\n",
       "    .dataframe tbody tr th {\n",
       "        vertical-align: top;\n",
       "    }\n",
       "\n",
       "    .dataframe thead th {\n",
       "        text-align: right;\n",
       "    }\n",
       "</style>\n",
       "<table border=\"1\" class=\"dataframe\">\n",
       "  <thead>\n",
       "    <tr style=\"text-align: right;\">\n",
       "      <th></th>\n",
       "      <th>AgeOldestIdentityRecord</th>\n",
       "      <th>AgeOldestAccount</th>\n",
       "      <th>AgeNewestAutoAccount</th>\n",
       "      <th>TotalInquiries</th>\n",
       "      <th>AvgAgeAutoAccounts</th>\n",
       "      <th>TotalAutoAccountsNeverDelinquent</th>\n",
       "      <th>WorstDelinquency</th>\n",
       "    </tr>\n",
       "  </thead>\n",
       "  <tbody>\n",
       "    <tr>\n",
       "      <th>count</th>\n",
       "      <td>11118.000000</td>\n",
       "      <td>9910.000000</td>\n",
       "      <td>6286.000000</td>\n",
       "      <td>10840.000000</td>\n",
       "      <td>6286.000000</td>\n",
       "      <td>6286.000000</td>\n",
       "      <td>9933.000000</td>\n",
       "    </tr>\n",
       "    <tr>\n",
       "      <th>mean</th>\n",
       "      <td>206.475625</td>\n",
       "      <td>125.134208</td>\n",
       "      <td>50.958956</td>\n",
       "      <td>0.332196</td>\n",
       "      <td>70.737830</td>\n",
       "      <td>1.185173</td>\n",
       "      <td>169.767140</td>\n",
       "    </tr>\n",
       "    <tr>\n",
       "      <th>std</th>\n",
       "      <td>108.123056</td>\n",
       "      <td>78.909608</td>\n",
       "      <td>37.586706</td>\n",
       "      <td>0.768580</td>\n",
       "      <td>34.810911</td>\n",
       "      <td>1.426003</td>\n",
       "      <td>190.018776</td>\n",
       "    </tr>\n",
       "    <tr>\n",
       "      <th>min</th>\n",
       "      <td>1.000000</td>\n",
       "      <td>0.000000</td>\n",
       "      <td>0.000000</td>\n",
       "      <td>0.000000</td>\n",
       "      <td>1.000000</td>\n",
       "      <td>0.000000</td>\n",
       "      <td>1.000000</td>\n",
       "    </tr>\n",
       "    <tr>\n",
       "      <th>25%</th>\n",
       "      <td>119.000000</td>\n",
       "      <td>74.000000</td>\n",
       "      <td>20.000000</td>\n",
       "      <td>0.000000</td>\n",
       "      <td>46.000000</td>\n",
       "      <td>0.000000</td>\n",
       "      <td>1.000000</td>\n",
       "    </tr>\n",
       "    <tr>\n",
       "      <th>50%</th>\n",
       "      <td>209.000000</td>\n",
       "      <td>112.000000</td>\n",
       "      <td>42.000000</td>\n",
       "      <td>0.000000</td>\n",
       "      <td>72.000000</td>\n",
       "      <td>1.000000</td>\n",
       "      <td>30.000000</td>\n",
       "    </tr>\n",
       "    <tr>\n",
       "      <th>75%</th>\n",
       "      <td>298.000000</td>\n",
       "      <td>164.000000</td>\n",
       "      <td>78.000000</td>\n",
       "      <td>0.000000</td>\n",
       "      <td>93.000000</td>\n",
       "      <td>2.000000</td>\n",
       "      <td>400.000000</td>\n",
       "    </tr>\n",
       "    <tr>\n",
       "      <th>max</th>\n",
       "      <td>666.000000</td>\n",
       "      <td>656.000000</td>\n",
       "      <td>311.000000</td>\n",
       "      <td>10.000000</td>\n",
       "      <td>311.000000</td>\n",
       "      <td>18.000000</td>\n",
       "      <td>400.000000</td>\n",
       "    </tr>\n",
       "  </tbody>\n",
       "</table>\n",
       "</div>"
      ],
      "text/plain": [
       "       AgeOldestIdentityRecord  AgeOldestAccount  AgeNewestAutoAccount  \\\n",
       "count             11118.000000       9910.000000           6286.000000   \n",
       "mean                206.475625        125.134208             50.958956   \n",
       "std                 108.123056         78.909608             37.586706   \n",
       "min                   1.000000          0.000000              0.000000   \n",
       "25%                 119.000000         74.000000             20.000000   \n",
       "50%                 209.000000        112.000000             42.000000   \n",
       "75%                 298.000000        164.000000             78.000000   \n",
       "max                 666.000000        656.000000            311.000000   \n",
       "\n",
       "       TotalInquiries  AvgAgeAutoAccounts  TotalAutoAccountsNeverDelinquent  \\\n",
       "count    10840.000000         6286.000000                       6286.000000   \n",
       "mean         0.332196           70.737830                          1.185173   \n",
       "std          0.768580           34.810911                          1.426003   \n",
       "min          0.000000            1.000000                          0.000000   \n",
       "25%          0.000000           46.000000                          0.000000   \n",
       "50%          0.000000           72.000000                          1.000000   \n",
       "75%          0.000000           93.000000                          2.000000   \n",
       "max         10.000000          311.000000                         18.000000   \n",
       "\n",
       "       WorstDelinquency  \n",
       "count       9933.000000  \n",
       "mean         169.767140  \n",
       "std          190.018776  \n",
       "min            1.000000  \n",
       "25%            1.000000  \n",
       "50%           30.000000  \n",
       "75%          400.000000  \n",
       "max          400.000000  "
      ]
     },
     "execution_count": 8,
     "metadata": {},
     "output_type": "execute_result"
    }
   ],
   "source": [
    "X.describe()"
   ]
  },
  {
   "cell_type": "code",
   "execution_count": 9,
   "metadata": {},
   "outputs": [
    {
     "data": {
      "text/plain": [
       "AgeOldestIdentityRecord              132\n",
       "AgeOldestAccount                    1340\n",
       "AgeNewestAutoAccount                4964\n",
       "TotalInquiries                       410\n",
       "AvgAgeAutoAccounts                  4964\n",
       "TotalAutoAccountsNeverDelinquent    4964\n",
       "WorstDelinquency                    1317\n",
       "HasInquiryTelecomm                    76\n",
       "dtype: int64"
      ]
     },
     "execution_count": 9,
     "metadata": {},
     "output_type": "execute_result"
    }
   ],
   "source": [
    "#checking for missing values in dataset\n",
    "X.isnull().sum()"
   ]
  },
  {
   "cell_type": "code",
   "execution_count": 10,
   "metadata": {},
   "outputs": [
    {
     "data": {
      "text/plain": [
       "AgeOldestIdentityRecord              1.173333\n",
       "AgeOldestAccount                    11.911111\n",
       "AgeNewestAutoAccount                44.124444\n",
       "TotalInquiries                       3.644444\n",
       "AvgAgeAutoAccounts                  44.124444\n",
       "TotalAutoAccountsNeverDelinquent    44.124444\n",
       "WorstDelinquency                    11.706667\n",
       "HasInquiryTelecomm                   0.675556\n",
       "dtype: float64"
      ]
     },
     "execution_count": 10,
     "metadata": {},
     "output_type": "execute_result"
    }
   ],
   "source": [
    "# percentage missing values in each column\n",
    "X.isnull().sum()*100/len(X)"
   ]
  },
  {
   "cell_type": "markdown",
   "metadata": {},
   "source": [
    "# Imputing whole dataset for EDA using MICE Forest Algorithm"
   ]
  },
  {
   "cell_type": "code",
   "execution_count": 11,
   "metadata": {},
   "outputs": [],
   "source": [
    "kds = mf.KernelDataSet(\n",
    "    X,\n",
    "  save_all_iterations=True,\n",
    "  random_state=1991)\n",
    "kds.mice(10,n_jobs=-1)\n",
    "\n",
    "X_imp = kds.complete_data()"
   ]
  },
  {
   "cell_type": "code",
   "execution_count": 12,
   "metadata": {},
   "outputs": [
    {
     "data": {
      "text/plain": [
       "AgeOldestIdentityRecord             0.0\n",
       "AgeOldestAccount                    0.0\n",
       "AgeNewestAutoAccount                0.0\n",
       "TotalInquiries                      0.0\n",
       "AvgAgeAutoAccounts                  0.0\n",
       "TotalAutoAccountsNeverDelinquent    0.0\n",
       "WorstDelinquency                    0.0\n",
       "HasInquiryTelecomm                  0.0\n",
       "dtype: float64"
      ]
     },
     "execution_count": 12,
     "metadata": {},
     "output_type": "execute_result"
    }
   ],
   "source": [
    "X_imp.isnull().sum()*100/len(X)"
   ]
  },
  {
   "cell_type": "code",
   "execution_count": 13,
   "metadata": {},
   "outputs": [
    {
     "data": {
      "text/html": [
       "<div>\n",
       "<style scoped>\n",
       "    .dataframe tbody tr th:only-of-type {\n",
       "        vertical-align: middle;\n",
       "    }\n",
       "\n",
       "    .dataframe tbody tr th {\n",
       "        vertical-align: top;\n",
       "    }\n",
       "\n",
       "    .dataframe thead th {\n",
       "        text-align: right;\n",
       "    }\n",
       "</style>\n",
       "<table border=\"1\" class=\"dataframe\">\n",
       "  <thead>\n",
       "    <tr style=\"text-align: right;\">\n",
       "      <th></th>\n",
       "      <th>AgeOldestIdentityRecord</th>\n",
       "      <th>AgeOldestAccount</th>\n",
       "      <th>AgeNewestAutoAccount</th>\n",
       "      <th>TotalInquiries</th>\n",
       "      <th>AvgAgeAutoAccounts</th>\n",
       "      <th>TotalAutoAccountsNeverDelinquent</th>\n",
       "      <th>WorstDelinquency</th>\n",
       "    </tr>\n",
       "  </thead>\n",
       "  <tbody>\n",
       "    <tr>\n",
       "      <th>count</th>\n",
       "      <td>11250.000000</td>\n",
       "      <td>11250.000000</td>\n",
       "      <td>11250.000000</td>\n",
       "      <td>11250.000000</td>\n",
       "      <td>11250.000000</td>\n",
       "      <td>11250.000000</td>\n",
       "      <td>11250.000000</td>\n",
       "    </tr>\n",
       "    <tr>\n",
       "      <th>mean</th>\n",
       "      <td>206.212622</td>\n",
       "      <td>120.507556</td>\n",
       "      <td>43.367467</td>\n",
       "      <td>0.328978</td>\n",
       "      <td>59.683911</td>\n",
       "      <td>1.153600</td>\n",
       "      <td>163.585067</td>\n",
       "    </tr>\n",
       "    <tr>\n",
       "      <th>std</th>\n",
       "      <td>108.285152</td>\n",
       "      <td>80.107435</td>\n",
       "      <td>37.110813</td>\n",
       "      <td>0.764085</td>\n",
       "      <td>38.077957</td>\n",
       "      <td>1.283891</td>\n",
       "      <td>189.060344</td>\n",
       "    </tr>\n",
       "    <tr>\n",
       "      <th>min</th>\n",
       "      <td>1.000000</td>\n",
       "      <td>0.000000</td>\n",
       "      <td>0.000000</td>\n",
       "      <td>0.000000</td>\n",
       "      <td>1.000000</td>\n",
       "      <td>0.000000</td>\n",
       "      <td>1.000000</td>\n",
       "    </tr>\n",
       "    <tr>\n",
       "      <th>25%</th>\n",
       "      <td>119.000000</td>\n",
       "      <td>66.000000</td>\n",
       "      <td>12.000000</td>\n",
       "      <td>0.000000</td>\n",
       "      <td>25.000000</td>\n",
       "      <td>0.000000</td>\n",
       "      <td>1.000000</td>\n",
       "    </tr>\n",
       "    <tr>\n",
       "      <th>50%</th>\n",
       "      <td>208.000000</td>\n",
       "      <td>109.000000</td>\n",
       "      <td>33.000000</td>\n",
       "      <td>0.000000</td>\n",
       "      <td>60.000000</td>\n",
       "      <td>1.000000</td>\n",
       "      <td>30.000000</td>\n",
       "    </tr>\n",
       "    <tr>\n",
       "      <th>75%</th>\n",
       "      <td>298.000000</td>\n",
       "      <td>161.000000</td>\n",
       "      <td>70.000000</td>\n",
       "      <td>0.000000</td>\n",
       "      <td>87.000000</td>\n",
       "      <td>2.000000</td>\n",
       "      <td>400.000000</td>\n",
       "    </tr>\n",
       "    <tr>\n",
       "      <th>max</th>\n",
       "      <td>666.000000</td>\n",
       "      <td>656.000000</td>\n",
       "      <td>311.000000</td>\n",
       "      <td>10.000000</td>\n",
       "      <td>311.000000</td>\n",
       "      <td>18.000000</td>\n",
       "      <td>400.000000</td>\n",
       "    </tr>\n",
       "  </tbody>\n",
       "</table>\n",
       "</div>"
      ],
      "text/plain": [
       "       AgeOldestIdentityRecord  AgeOldestAccount  AgeNewestAutoAccount  \\\n",
       "count             11250.000000      11250.000000          11250.000000   \n",
       "mean                206.212622        120.507556             43.367467   \n",
       "std                 108.285152         80.107435             37.110813   \n",
       "min                   1.000000          0.000000              0.000000   \n",
       "25%                 119.000000         66.000000             12.000000   \n",
       "50%                 208.000000        109.000000             33.000000   \n",
       "75%                 298.000000        161.000000             70.000000   \n",
       "max                 666.000000        656.000000            311.000000   \n",
       "\n",
       "       TotalInquiries  AvgAgeAutoAccounts  TotalAutoAccountsNeverDelinquent  \\\n",
       "count    11250.000000        11250.000000                      11250.000000   \n",
       "mean         0.328978           59.683911                          1.153600   \n",
       "std          0.764085           38.077957                          1.283891   \n",
       "min          0.000000            1.000000                          0.000000   \n",
       "25%          0.000000           25.000000                          0.000000   \n",
       "50%          0.000000           60.000000                          1.000000   \n",
       "75%          0.000000           87.000000                          2.000000   \n",
       "max         10.000000          311.000000                         18.000000   \n",
       "\n",
       "       WorstDelinquency  \n",
       "count      11250.000000  \n",
       "mean         163.585067  \n",
       "std          189.060344  \n",
       "min            1.000000  \n",
       "25%            1.000000  \n",
       "50%           30.000000  \n",
       "75%          400.000000  \n",
       "max          400.000000  "
      ]
     },
     "execution_count": 13,
     "metadata": {},
     "output_type": "execute_result"
    }
   ],
   "source": [
    "#Basic Statistical Check \n",
    "X_imp.describe()"
   ]
  },
  {
   "cell_type": "code",
   "execution_count": 14,
   "metadata": {},
   "outputs": [],
   "source": [
    "#saving imputed dataframe\n",
    "\n",
    "pd.concat([X_imp,y],axis=1).to_csv(\"Imputed_data.csv\")"
   ]
  },
  {
   "cell_type": "code",
   "execution_count": 15,
   "metadata": {},
   "outputs": [],
   "source": [
    "data_1=pd.concat([X_imp,y],axis=1)"
   ]
  },
  {
   "cell_type": "code",
   "execution_count": 16,
   "metadata": {},
   "outputs": [],
   "source": [
    "positive_AgeOldestIdentityRecord= data_1[data_1['FirstYearDelinquency']==1]['AgeOldestIdentityRecord']\n",
    "negative_AgeOldestIdentityRecord= data_1[data_1['FirstYearDelinquency']==0]['AgeOldestIdentityRecord']\n",
    "\n",
    "positive_AgeOldestAccount= data_1[data_1['FirstYearDelinquency']==1]['AgeOldestAccount']\n",
    "negative_AgeOldestAccount= data_1[data_1['FirstYearDelinquency']==0]['AgeOldestAccount']\n",
    "\n",
    "positive_AgeNewestAutoAccount= data_1[data_1['FirstYearDelinquency']==1]['AgeNewestAutoAccount']\n",
    "negative_AgeNewestAutoAccount= data_1[data_1['FirstYearDelinquency']==0]['AgeNewestAutoAccount']\n",
    "\n",
    "positive_TotalInquiries= data_1[data_1['FirstYearDelinquency']==1]['TotalInquiries']\n",
    "negative_TotalInquiries= data_1[data_1['FirstYearDelinquency']==0]['TotalInquiries']\n",
    "\n",
    "positive_AvgAgeAutoAccounts= data_1[data_1['FirstYearDelinquency']==1]['AvgAgeAutoAccounts']\n",
    "negative_AvgAgeAutoAccounts= data_1[data_1['FirstYearDelinquency']==0]['AvgAgeAutoAccounts']\n",
    "\n",
    "positive_TotalAutoAccountsNeverDelinquent= data_1[data_1['FirstYearDelinquency']==1]['TotalAutoAccountsNeverDelinquent']\n",
    "negative_TotalAutoAccountsNeverDelinquent= data_1[data_1['FirstYearDelinquency']==0]['TotalAutoAccountsNeverDelinquent']\n",
    "\n",
    "positive_WorstDelinquency= data_1[data_1['FirstYearDelinquency']==1]['WorstDelinquency']\n",
    "negative_WorstDelinquency= data_1[data_1['FirstYearDelinquency']==0]['WorstDelinquency']\n",
    "\n",
    "positive_HasInquiryTelecomm= data_1[data_1['FirstYearDelinquency']==1]['HasInquiryTelecomm']\n",
    "negative_HasInquiryTelecomm= data_1[data_1['FirstYearDelinquency']==0]['HasInquiryTelecomm']\n"
   ]
  },
  {
   "cell_type": "code",
   "execution_count": 17,
   "metadata": {},
   "outputs": [
    {
     "data": {
      "text/plain": [
       "<AxesSubplot:>"
      ]
     },
     "execution_count": 17,
     "metadata": {},
     "output_type": "execute_result"
    },
    {
     "data": {
      "image/png": "[encoded data removed]",
      "text/plain": [
       "<Figure size 1440x1080 with 16 Axes>"
      ]
     },
     "metadata": {
      "needs_background": "light"
     },
     "output_type": "display_data"
    }
   ],
   "source": [
    "\n",
    "\n",
    "fig1 = plt.figure(figsize=(20,15))\n",
    "\n",
    "#AgeOldestIdentityRecord\n",
    "ax1= fig1.add_subplot(331)\n",
    "ax1.set_xlabel('AgeOldestIdentityRecord')\n",
    "ax1.set_ylabel('Count')\n",
    "ax1.set_title('AgeOldestIdentityRecord Distribution')\n",
    "positive_AgeOldestIdentityRecord.hist(alpha=0.5, bins=30)\n",
    "ax2= fig1.add_subplot(331)\n",
    "negative_AgeOldestIdentityRecord.hist(alpha=0.5, bins=30)\n",
    "\n",
    "#AgeOldestAccount\n",
    "ax3= fig1.add_subplot(332)\n",
    "ax3.set_xlabel('AgeOldestAccount')\n",
    "ax3.set_ylabel('Count')\n",
    "ax3.set_title('AgeOldestAccount')\n",
    "positive_AgeOldestAccount.hist(alpha=0.5, bins=30)\n",
    "ax4= fig1.add_subplot(332)\n",
    "negative_AgeOldestAccount.hist(alpha=0.5, bins=30)\n",
    "\n",
    "#AgeNewestAutoAccount\n",
    "ax5= fig1.add_subplot(333)\n",
    "ax5.set_xlabel('AgeNewestAutoAccount')\n",
    "ax5.set_ylabel('Count')\n",
    "ax5.set_title('AgeNewestAutoAccount')\n",
    "positive_AgeNewestAutoAccount.hist(alpha=0.5, bins=30)\n",
    "ax6= fig1.add_subplot(333)\n",
    "negative_AgeNewestAutoAccount.hist(alpha=0.5, bins=30)\n",
    "\n",
    "\n",
    "#TotalInquiries\n",
    "ax7= fig1.add_subplot(334)\n",
    "ax7.set_xlabel('TotalInquiries')\n",
    "ax7.set_ylabel('Count')\n",
    "ax7.set_title('TotalInquiries Distribution')\n",
    "positive_TotalInquiries.hist(alpha=0.5, bins=30)\n",
    "ax8= fig1.add_subplot(334)\n",
    "negative_TotalInquiries.hist(alpha=0.5, bins=30)\n",
    "\n",
    "#AvgAgeAutoAccounts\n",
    "ax9= fig1.add_subplot(335)\n",
    "ax9.set_xlabel('AvgAgeAutoAccounts')\n",
    "ax9.set_ylabel('Count')\n",
    "ax9.set_title('AvgAgeAutoAccounts Distribution')\n",
    "positive_AvgAgeAutoAccounts.hist(alpha=0.5, bins=30)\n",
    "ax10= fig1.add_subplot(335)\n",
    "negative_AvgAgeAutoAccounts.hist(alpha=0.5, bins=30)\n",
    "\n",
    "#TotalAutoAccountsNeverDelinquent\n",
    "ax11= fig1.add_subplot(336)\n",
    "ax11.set_xlabel('TotalAutoAccountsNeverDelinquent')\n",
    "ax11.set_ylabel('Count')\n",
    "ax11.set_title('TotalAutoAccountsNeverDelinquent Distribution')\n",
    "positive_TotalAutoAccountsNeverDelinquent.hist(alpha=0.5, bins=30)\n",
    "ax12= fig1.add_subplot(336)\n",
    "negative_TotalAutoAccountsNeverDelinquent.hist(alpha=0.5, bins=30)\n",
    "\n",
    "#WorstDelinquency\n",
    "ax13= fig1.add_subplot(337)\n",
    "ax13.set_xlabel('WorstDelinquency')\n",
    "ax13.set_ylabel('Count')\n",
    "ax13.set_title('WorstDelinquency Distribution')\n",
    "positive_WorstDelinquency.hist(alpha=0.5, bins=30)\n",
    "ax14= fig1.add_subplot(337)\n",
    "negative_WorstDelinquency.hist(alpha=0.5, bins=30)\n",
    "\n",
    "#HasInquiryTelecomm\n",
    "ax15= fig1.add_subplot(338)\n",
    "ax15.set_xlabel('HasInquiryTelecomm')\n",
    "ax15.set_ylabel('Count')\n",
    "ax15.set_title('HasInquiryTelecomm')\n",
    "positive_HasInquiryTelecomm.hist(alpha=0.5, bins=30)\n",
    "ax16= fig1.add_subplot(338)\n",
    "negative_HasInquiryTelecomm.hist(alpha=0.5, bins=30)\n",
    "\n"
   ]
  },
  {
   "cell_type": "code",
   "execution_count": 18,
   "metadata": {},
   "outputs": [
    {
     "data": {
      "text/plain": [
       "<AxesSubplot:>"
      ]
     },
     "execution_count": 18,
     "metadata": {},
     "output_type": "execute_result"
    },
    {
     "data": {
      "image/png": "[encoded data removed]",
      "text/plain": [
       "<Figure size 2880x1440 with 2 Axes>"
      ]
     },
     "metadata": {
      "needs_background": "light"
     },
     "output_type": "display_data"
    }
   ],
   "source": [
    "hmap=X_imp.corr()\n",
    "plt.subplots(figsize=(40,20))\n",
    "sns.heatmap(hmap,vmax=0.9,annot=True,cmap=\"BrBG\",square=True)"
   ]
  },
  {
   "cell_type": "markdown",
   "metadata": {},
   "source": [
    "#  Data Preprocessing"
   ]
  },
  {
   "cell_type": "code",
   "execution_count": 19,
   "metadata": {},
   "outputs": [],
   "source": [
    "#Splitting data into train and test in 4:1 ratio stratified based on target variable \n",
    "\n",
    "X_train, X_test, y_train, y_test = train_test_split(X, y, test_size=0.20, random_state=42,stratify=y)"
   ]
  },
  {
   "cell_type": "code",
   "execution_count": 20,
   "metadata": {},
   "outputs": [],
   "source": [
    "# MICE Imputation alrorithm trained on training set \n",
    "\n",
    "kernel = mf.KernelDataSet(\n",
    "    X_train,\n",
    "  save_all_iterations=True,\n",
    "  random_state=1991)\n",
    "kds.mice(10,n_jobs=-1)"
   ]
  },
  {
   "cell_type": "code",
   "execution_count": 21,
   "metadata": {
    "scrolled": true
   },
   "outputs": [],
   "source": [
    "# saved the trained Imputation algorithm\n",
    "\n",
    "with open('impute_kernel_train','wb') as f:\n",
    "    pickle.dump(kernel,f)"
   ]
  },
  {
   "cell_type": "code",
   "execution_count": 22,
   "metadata": {},
   "outputs": [],
   "source": [
    "#loaded back the trained algorithm\n",
    "\n",
    "with open('impute_kernel_train','rb') as f:\n",
    "    kernel=pickle.load(f)"
   ]
  },
  {
   "cell_type": "code",
   "execution_count": 23,
   "metadata": {},
   "outputs": [],
   "source": [
    "# Imputed train set \n",
    "X_train_imp = kernel.complete_data()"
   ]
  },
  {
   "cell_type": "code",
   "execution_count": 24,
   "metadata": {
    "scrolled": true
   },
   "outputs": [],
   "source": [
    "# Imputed test set\n",
    "X_test_imp=kernel.impute_new_data(X_test).complete_data()"
   ]
  },
  {
   "cell_type": "code",
   "execution_count": 25,
   "metadata": {
    "scrolled": true
   },
   "outputs": [
    {
     "data": {
      "text/plain": [
       "0"
      ]
     },
     "execution_count": 25,
     "metadata": {},
     "output_type": "execute_result"
    }
   ],
   "source": [
    "X_test_imp.isnull().sum().sum()"
   ]
  },
  {
   "cell_type": "markdown",
   "metadata": {},
   "source": [
    "#  Random Forest"
   ]
  },
  {
   "cell_type": "code",
   "execution_count": 26,
   "metadata": {},
   "outputs": [],
   "source": [
    "#Parameters defined for GRIDSEARCHCV\n",
    "\n",
    "# parameters={'n_estimators':[170,200,220],'max_features':[3,5,8],'max_depth':[8,10,15]}\n",
    "parameters={'n_estimators':[50,100,170],'max_features':[1,2,3],'max_depth':[3,5,8]}\n"
   ]
  },
  {
   "cell_type": "code",
   "execution_count": 27,
   "metadata": {},
   "outputs": [],
   "source": [
    "#Algorithm used\n",
    "\n",
    "rnd= RandomForestClassifier(random_state=0)"
   ]
  },
  {
   "cell_type": "code",
   "execution_count": 28,
   "metadata": {},
   "outputs": [],
   "source": [
    "clf_grid=GridSearchCV(rnd,parameters,n_jobs=-1,scoring='accuracy').fit(X_train_imp,y_train)"
   ]
  },
  {
   "cell_type": "code",
   "execution_count": 29,
   "metadata": {},
   "outputs": [
    {
     "data": {
      "text/plain": [
       "RandomForestClassifier(max_depth=5, max_features=1, n_estimators=50,\n",
       "                       random_state=0)"
      ]
     },
     "execution_count": 29,
     "metadata": {},
     "output_type": "execute_result"
    }
   ],
   "source": [
    "#Found the best estimator\n",
    "clf_grid.best_estimator_"
   ]
  },
  {
   "cell_type": "code",
   "execution_count": 30,
   "metadata": {},
   "outputs": [
    {
     "data": {
      "text/plain": [
       "0.6486666666666667"
      ]
     },
     "execution_count": 30,
     "metadata": {},
     "output_type": "execute_result"
    }
   ],
   "source": [
    "# Train accuracy score \n",
    "clf_grid.best_score_"
   ]
  },
  {
   "cell_type": "code",
   "execution_count": 31,
   "metadata": {},
   "outputs": [
    {
     "data": {
      "text/plain": [
       "0.648"
      ]
     },
     "execution_count": 31,
     "metadata": {},
     "output_type": "execute_result"
    }
   ],
   "source": [
    "# Test accuracy score\n",
    "clf_grid.score(X_test_imp,y_test)"
   ]
  },
  {
   "cell_type": "code",
   "execution_count": 32,
   "metadata": {},
   "outputs": [
    {
     "name": "stdout",
     "output_type": "stream",
     "text": [
      "Confusion Matrix RF : \n",
      " [[1450    5]\n",
      " [ 787    8]]\n"
     ]
    }
   ],
   "source": [
    "#Confusion Matric \n",
    "\n",
    "print (\"Confusion Matrix RF : \\n\", confusion_matrix(y_test, clf_grid.predict(X_test_imp)) )"
   ]
  },
  {
   "cell_type": "code",
   "execution_count": 33,
   "metadata": {
    "scrolled": true
   },
   "outputs": [
    {
     "data": {
      "text/plain": [
       "<sklearn.metrics._plot.roc_curve.RocCurveDisplay at 0x29120f98188>"
      ]
     },
     "execution_count": 33,
     "metadata": {},
     "output_type": "execute_result"
    },
    {
     "data": {
      "image/png": "[encoded data removed]",
      "text/plain": [
       "<Figure size 432x288 with 1 Axes>"
      ]
     },
     "metadata": {
      "needs_background": "light"
     },
     "output_type": "display_data"
    }
   ],
   "source": [
    "plot_roc_curve(clf_grid,X_test_imp,y_test)"
   ]
  },
  {
   "cell_type": "code",
   "execution_count": 34,
   "metadata": {},
   "outputs": [
    {
     "name": "stderr",
     "output_type": "stream",
     "text": [
      "C:\\Users\\nisha\\Anaconda3\\lib\\site-packages\\ipykernel_launcher.py:15: UserWarning: FixedFormatter should only be used together with FixedLocator\n",
      "  from ipykernel import kernelapp as app\n"
     ]
    },
    {
     "data": {
      "image/png": "[encoded data removed]",
      "text/plain": [
       "<Figure size 864x576 with 2 Axes>"
      ]
     },
     "metadata": {
      "needs_background": "light"
     },
     "output_type": "display_data"
    }
   ],
   "source": [
    "# Generation Random Forest feature Importance and Permutation Feature Importance Charts\n",
    "\n",
    "import numpy as np\n",
    "from sklearn.inspection import permutation_importance\n",
    "result = permutation_importance(clf_grid, X_train_imp, y_train, n_repeats=10,\n",
    "                                random_state=42)\n",
    "perm_sorted_idx = result.importances_mean.argsort()\n",
    "\n",
    "tree_importance_sorted_idx = np.argsort(clf_grid.best_estimator_.feature_importances_)\n",
    "tree_indices = np.arange(0, len(clf_grid.best_estimator_.feature_importances_)) + 0.5\n",
    "\n",
    "fig, (ax1, ax2) = plt.subplots(1, 2, figsize=(12, 8))\n",
    "ax1.barh(tree_indices,\n",
    "         clf_grid.best_estimator_.feature_importances_[tree_importance_sorted_idx], height=0.7)\n",
    "ax1.set_yticklabels(X_train_imp.columns[tree_importance_sorted_idx])\n",
    "ax1.set_yticks(tree_indices)\n",
    "ax1.set_ylim((0, len(clf_grid.best_estimator_.feature_importances_)))\n",
    "ax2.boxplot(result.importances[perm_sorted_idx].T, vert=False,\n",
    "            labels=X_train_imp.columns[perm_sorted_idx])\n",
    "fig.tight_layout()\n",
    "plt.show()"
   ]
  },
  {
   "cell_type": "markdown",
   "metadata": {},
   "source": [
    "# LOGISTIC REGRESSION"
   ]
  },
  {
   "cell_type": "code",
   "execution_count": 35,
   "metadata": {},
   "outputs": [],
   "source": [
    "data=pd.concat([X_train_imp,y_train],axis=1)"
   ]
  },
  {
   "cell_type": "code",
   "execution_count": 36,
   "metadata": {},
   "outputs": [
    {
     "name": "stdout",
     "output_type": "stream",
     "text": [
      "Optimization terminated successfully.\n",
      "         Current function value: 0.635529\n",
      "         Iterations 5\n"
     ]
    }
   ],
   "source": [
    "# Fitting model \n",
    "\n",
    "model=smf.logit(formula='''FirstYearDelinquency~AgeOldestIdentityRecord+AgeOldestAccount+AgeNewestAutoAccount\n",
    "                                +TotalInquiries+ AvgAgeAutoAccounts+ TotalAutoAccountsNeverDelinquent +WorstDelinquency+ \n",
    "                                HasInquiryTelecomm''',data=data).fit()"
   ]
  },
  {
   "cell_type": "code",
   "execution_count": 37,
   "metadata": {
    "scrolled": true
   },
   "outputs": [
    {
     "name": "stdout",
     "output_type": "stream",
     "text": [
      "                            Logit Regression Results                            \n",
      "================================================================================\n",
      "Dep. Variable:     FirstYearDelinquency   No. Observations:                 9000\n",
      "Model:                            Logit   Df Residuals:                     8991\n",
      "Method:                             MLE   Df Model:                            8\n",
      "Date:                  Sun, 20 Jun 2021   Pseudo R-squ.:                 0.02169\n",
      "Time:                          15:45:31   Log-Likelihood:                -5719.8\n",
      "converged:                         True   LL-Null:                       -5846.6\n",
      "Covariance Type:              nonrobust   LLR p-value:                 2.916e-50\n",
      "====================================================================================================\n",
      "                                       coef    std err          z      P>|z|      [0.025      0.975]\n",
      "----------------------------------------------------------------------------------------------------\n",
      "Intercept                           -0.3000      0.070     -4.259      0.000      -0.438      -0.162\n",
      "HasInquiryTelecomm[T.1.0]            0.3505      0.081      4.331      0.000       0.192       0.509\n",
      "AgeOldestIdentityRecord             -0.0011      0.000     -4.519      0.000      -0.002      -0.001\n",
      "AgeOldestAccount                    -0.0013      0.000     -3.893      0.000      -0.002      -0.001\n",
      "AgeNewestAutoAccount                -0.0013      0.001     -1.959      0.050      -0.003    8.69e-07\n",
      "TotalInquiries                       0.2113      0.029      7.212      0.000       0.154       0.269\n",
      "AvgAgeAutoAccounts                  -0.0014      0.001     -1.834      0.067      -0.003    9.27e-05\n",
      "TotalAutoAccountsNeverDelinquent    -0.0270      0.016     -1.653      0.098      -0.059       0.005\n",
      "WorstDelinquency                     0.0010      0.000      8.446      0.000       0.001       0.001\n",
      "====================================================================================================\n"
     ]
    }
   ],
   "source": [
    "# Regression Model Summary\n",
    "\n",
    "print(model.summary())"
   ]
  },
  {
   "cell_type": "code",
   "execution_count": 38,
   "metadata": {},
   "outputs": [
    {
     "name": "stdout",
     "output_type": "stream",
     "text": [
      "Train Accuracy: 0.6493333333333333\n"
     ]
    }
   ],
   "source": [
    "# Training data prediction accuracy\n",
    "\n",
    "print(\"Train Accuracy:\",accuracy_score(y_train,list(map(round, model.predict(X_train_imp)))))"
   ]
  },
  {
   "cell_type": "code",
   "execution_count": 39,
   "metadata": {},
   "outputs": [
    {
     "name": "stdout",
     "output_type": "stream",
     "text": [
      "Test Accuracy: 0.6551111111111111\n"
     ]
    }
   ],
   "source": [
    "#Generating Probabilities and Prediction\n",
    "\n",
    "yhat_log= model.predict(X_test_imp)\n",
    "prediction=list(map(round, yhat_log))\n",
    "\n",
    "print(\"Test Accuracy:\",accuracy_score(y_test,prediction))"
   ]
  },
  {
   "cell_type": "code",
   "execution_count": 40,
   "metadata": {},
   "outputs": [],
   "source": [
    "consolidated_output=pd.concat([X_test_imp,y_test,pd.DataFrame({\"Probabilities\":yhat_log,\"Risk\":prediction})],axis=1)"
   ]
  },
  {
   "cell_type": "code",
   "execution_count": 41,
   "metadata": {},
   "outputs": [
    {
     "data": {
      "text/html": [
       "<div>\n",
       "<style scoped>\n",
       "    .dataframe tbody tr th:only-of-type {\n",
       "        vertical-align: middle;\n",
       "    }\n",
       "\n",
       "    .dataframe tbody tr th {\n",
       "        vertical-align: top;\n",
       "    }\n",
       "\n",
       "    .dataframe thead th {\n",
       "        text-align: right;\n",
       "    }\n",
       "</style>\n",
       "<table border=\"1\" class=\"dataframe\">\n",
       "  <thead>\n",
       "    <tr style=\"text-align: right;\">\n",
       "      <th></th>\n",
       "      <th></th>\n",
       "      <th>AgeOldestIdentityRecord</th>\n",
       "      <th>AgeOldestAccount</th>\n",
       "      <th>AgeNewestAutoAccount</th>\n",
       "      <th>TotalInquiries</th>\n",
       "      <th>AvgAgeAutoAccounts</th>\n",
       "      <th>TotalAutoAccountsNeverDelinquent</th>\n",
       "      <th>WorstDelinquency</th>\n",
       "      <th>FirstYearDelinquency</th>\n",
       "      <th>Probabilities</th>\n",
       "    </tr>\n",
       "    <tr>\n",
       "      <th>Risk</th>\n",
       "      <th></th>\n",
       "      <th></th>\n",
       "      <th></th>\n",
       "      <th></th>\n",
       "      <th></th>\n",
       "      <th></th>\n",
       "      <th></th>\n",
       "      <th></th>\n",
       "      <th></th>\n",
       "      <th></th>\n",
       "    </tr>\n",
       "  </thead>\n",
       "  <tbody>\n",
       "    <tr>\n",
       "      <th rowspan=\"8\" valign=\"top\">0</th>\n",
       "      <th>count</th>\n",
       "      <td>2145.000000</td>\n",
       "      <td>2145.000000</td>\n",
       "      <td>2145.000000</td>\n",
       "      <td>2145.000000</td>\n",
       "      <td>2145.000000</td>\n",
       "      <td>2145.000000</td>\n",
       "      <td>2145.000000</td>\n",
       "      <td>2145.000000</td>\n",
       "      <td>2145.000000</td>\n",
       "    </tr>\n",
       "    <tr>\n",
       "      <th>mean</th>\n",
       "      <td>208.077855</td>\n",
       "      <td>128.944056</td>\n",
       "      <td>48.681119</td>\n",
       "      <td>0.274126</td>\n",
       "      <td>70.174825</td>\n",
       "      <td>1.184615</td>\n",
       "      <td>161.956177</td>\n",
       "      <td>0.341725</td>\n",
       "      <td>0.347409</td>\n",
       "    </tr>\n",
       "    <tr>\n",
       "      <th>std</th>\n",
       "      <td>107.706353</td>\n",
       "      <td>81.787708</td>\n",
       "      <td>35.795295</td>\n",
       "      <td>0.614962</td>\n",
       "      <td>33.953556</td>\n",
       "      <td>1.365365</td>\n",
       "      <td>188.468281</td>\n",
       "      <td>0.474398</td>\n",
       "      <td>0.068655</td>\n",
       "    </tr>\n",
       "    <tr>\n",
       "      <th>min</th>\n",
       "      <td>1.000000</td>\n",
       "      <td>0.000000</td>\n",
       "      <td>1.000000</td>\n",
       "      <td>0.000000</td>\n",
       "      <td>1.000000</td>\n",
       "      <td>0.000000</td>\n",
       "      <td>1.000000</td>\n",
       "      <td>0.000000</td>\n",
       "      <td>0.170712</td>\n",
       "    </tr>\n",
       "    <tr>\n",
       "      <th>25%</th>\n",
       "      <td>122.000000</td>\n",
       "      <td>76.000000</td>\n",
       "      <td>20.000000</td>\n",
       "      <td>0.000000</td>\n",
       "      <td>45.000000</td>\n",
       "      <td>0.000000</td>\n",
       "      <td>1.000000</td>\n",
       "      <td>0.000000</td>\n",
       "      <td>0.294294</td>\n",
       "    </tr>\n",
       "    <tr>\n",
       "      <th>50%</th>\n",
       "      <td>214.000000</td>\n",
       "      <td>117.000000</td>\n",
       "      <td>40.000000</td>\n",
       "      <td>0.000000</td>\n",
       "      <td>70.000000</td>\n",
       "      <td>1.000000</td>\n",
       "      <td>30.000000</td>\n",
       "      <td>0.000000</td>\n",
       "      <td>0.347046</td>\n",
       "    </tr>\n",
       "    <tr>\n",
       "      <th>75%</th>\n",
       "      <td>297.000000</td>\n",
       "      <td>167.000000</td>\n",
       "      <td>76.000000</td>\n",
       "      <td>0.000000</td>\n",
       "      <td>93.000000</td>\n",
       "      <td>2.000000</td>\n",
       "      <td>400.000000</td>\n",
       "      <td>1.000000</td>\n",
       "      <td>0.397043</td>\n",
       "    </tr>\n",
       "    <tr>\n",
       "      <th>max</th>\n",
       "      <td>497.000000</td>\n",
       "      <td>547.000000</td>\n",
       "      <td>211.000000</td>\n",
       "      <td>5.000000</td>\n",
       "      <td>211.000000</td>\n",
       "      <td>12.000000</td>\n",
       "      <td>400.000000</td>\n",
       "      <td>1.000000</td>\n",
       "      <td>0.498817</td>\n",
       "    </tr>\n",
       "    <tr>\n",
       "      <th rowspan=\"8\" valign=\"top\">1</th>\n",
       "      <th>count</th>\n",
       "      <td>105.000000</td>\n",
       "      <td>105.000000</td>\n",
       "      <td>105.000000</td>\n",
       "      <td>105.000000</td>\n",
       "      <td>105.000000</td>\n",
       "      <td>105.000000</td>\n",
       "      <td>105.000000</td>\n",
       "      <td>105.000000</td>\n",
       "      <td>105.000000</td>\n",
       "    </tr>\n",
       "    <tr>\n",
       "      <th>mean</th>\n",
       "      <td>145.247619</td>\n",
       "      <td>94.847619</td>\n",
       "      <td>31.857143</td>\n",
       "      <td>1.923810</td>\n",
       "      <td>49.314286</td>\n",
       "      <td>1.295238</td>\n",
       "      <td>372.704762</td>\n",
       "      <td>0.590476</td>\n",
       "      <td>0.551334</td>\n",
       "    </tr>\n",
       "    <tr>\n",
       "      <th>std</th>\n",
       "      <td>98.426445</td>\n",
       "      <td>61.104542</td>\n",
       "      <td>25.979810</td>\n",
       "      <td>1.696689</td>\n",
       "      <td>26.944142</td>\n",
       "      <td>1.775495</td>\n",
       "      <td>96.380448</td>\n",
       "      <td>0.494104</td>\n",
       "      <td>0.048083</td>\n",
       "    </tr>\n",
       "    <tr>\n",
       "      <th>min</th>\n",
       "      <td>3.000000</td>\n",
       "      <td>6.000000</td>\n",
       "      <td>1.000000</td>\n",
       "      <td>0.000000</td>\n",
       "      <td>1.000000</td>\n",
       "      <td>0.000000</td>\n",
       "      <td>1.000000</td>\n",
       "      <td>0.000000</td>\n",
       "      <td>0.501244</td>\n",
       "    </tr>\n",
       "    <tr>\n",
       "      <th>25%</th>\n",
       "      <td>65.000000</td>\n",
       "      <td>50.000000</td>\n",
       "      <td>12.000000</td>\n",
       "      <td>1.000000</td>\n",
       "      <td>29.000000</td>\n",
       "      <td>0.000000</td>\n",
       "      <td>400.000000</td>\n",
       "      <td>0.000000</td>\n",
       "      <td>0.515340</td>\n",
       "    </tr>\n",
       "    <tr>\n",
       "      <th>50%</th>\n",
       "      <td>128.000000</td>\n",
       "      <td>84.000000</td>\n",
       "      <td>26.000000</td>\n",
       "      <td>2.000000</td>\n",
       "      <td>48.000000</td>\n",
       "      <td>1.000000</td>\n",
       "      <td>400.000000</td>\n",
       "      <td>1.000000</td>\n",
       "      <td>0.536139</td>\n",
       "    </tr>\n",
       "    <tr>\n",
       "      <th>75%</th>\n",
       "      <td>218.000000</td>\n",
       "      <td>131.000000</td>\n",
       "      <td>43.000000</td>\n",
       "      <td>3.000000</td>\n",
       "      <td>65.000000</td>\n",
       "      <td>2.000000</td>\n",
       "      <td>400.000000</td>\n",
       "      <td>1.000000</td>\n",
       "      <td>0.572673</td>\n",
       "    </tr>\n",
       "    <tr>\n",
       "      <th>max</th>\n",
       "      <td>367.000000</td>\n",
       "      <td>336.000000</td>\n",
       "      <td>123.000000</td>\n",
       "      <td>7.000000</td>\n",
       "      <td>134.000000</td>\n",
       "      <td>12.000000</td>\n",
       "      <td>400.000000</td>\n",
       "      <td>1.000000</td>\n",
       "      <td>0.722838</td>\n",
       "    </tr>\n",
       "  </tbody>\n",
       "</table>\n",
       "</div>"
      ],
      "text/plain": [
       "            AgeOldestIdentityRecord  AgeOldestAccount  AgeNewestAutoAccount  \\\n",
       "Risk                                                                          \n",
       "0    count              2145.000000       2145.000000           2145.000000   \n",
       "     mean                208.077855        128.944056             48.681119   \n",
       "     std                 107.706353         81.787708             35.795295   \n",
       "     min                   1.000000          0.000000              1.000000   \n",
       "     25%                 122.000000         76.000000             20.000000   \n",
       "     50%                 214.000000        117.000000             40.000000   \n",
       "     75%                 297.000000        167.000000             76.000000   \n",
       "     max                 497.000000        547.000000            211.000000   \n",
       "1    count               105.000000        105.000000            105.000000   \n",
       "     mean                145.247619         94.847619             31.857143   \n",
       "     std                  98.426445         61.104542             25.979810   \n",
       "     min                   3.000000          6.000000              1.000000   \n",
       "     25%                  65.000000         50.000000             12.000000   \n",
       "     50%                 128.000000         84.000000             26.000000   \n",
       "     75%                 218.000000        131.000000             43.000000   \n",
       "     max                 367.000000        336.000000            123.000000   \n",
       "\n",
       "            TotalInquiries  AvgAgeAutoAccounts  \\\n",
       "Risk                                             \n",
       "0    count     2145.000000         2145.000000   \n",
       "     mean         0.274126           70.174825   \n",
       "     std          0.614962           33.953556   \n",
       "     min          0.000000            1.000000   \n",
       "     25%          0.000000           45.000000   \n",
       "     50%          0.000000           70.000000   \n",
       "     75%          0.000000           93.000000   \n",
       "     max          5.000000          211.000000   \n",
       "1    count      105.000000          105.000000   \n",
       "     mean         1.923810           49.314286   \n",
       "     std          1.696689           26.944142   \n",
       "     min          0.000000            1.000000   \n",
       "     25%          1.000000           29.000000   \n",
       "     50%          2.000000           48.000000   \n",
       "     75%          3.000000           65.000000   \n",
       "     max          7.000000          134.000000   \n",
       "\n",
       "            TotalAutoAccountsNeverDelinquent  WorstDelinquency  \\\n",
       "Risk                                                             \n",
       "0    count                       2145.000000       2145.000000   \n",
       "     mean                           1.184615        161.956177   \n",
       "     std                            1.365365        188.468281   \n",
       "     min                            0.000000          1.000000   \n",
       "     25%                            0.000000          1.000000   \n",
       "     50%                            1.000000         30.000000   \n",
       "     75%                            2.000000        400.000000   \n",
       "     max                           12.000000        400.000000   \n",
       "1    count                        105.000000        105.000000   \n",
       "     mean                           1.295238        372.704762   \n",
       "     std                            1.775495         96.380448   \n",
       "     min                            0.000000          1.000000   \n",
       "     25%                            0.000000        400.000000   \n",
       "     50%                            1.000000        400.000000   \n",
       "     75%                            2.000000        400.000000   \n",
       "     max                           12.000000        400.000000   \n",
       "\n",
       "            FirstYearDelinquency  Probabilities  \n",
       "Risk                                             \n",
       "0    count           2145.000000    2145.000000  \n",
       "     mean               0.341725       0.347409  \n",
       "     std                0.474398       0.068655  \n",
       "     min                0.000000       0.170712  \n",
       "     25%                0.000000       0.294294  \n",
       "     50%                0.000000       0.347046  \n",
       "     75%                1.000000       0.397043  \n",
       "     max                1.000000       0.498817  \n",
       "1    count            105.000000     105.000000  \n",
       "     mean               0.590476       0.551334  \n",
       "     std                0.494104       0.048083  \n",
       "     min                0.000000       0.501244  \n",
       "     25%                0.000000       0.515340  \n",
       "     50%                1.000000       0.536139  \n",
       "     75%                1.000000       0.572673  \n",
       "     max                1.000000       0.722838  "
      ]
     },
     "execution_count": 41,
     "metadata": {},
     "output_type": "execute_result"
    }
   ],
   "source": [
    "consolidated_output.groupby('Risk').describe().stack()"
   ]
  },
  {
   "cell_type": "code",
   "execution_count": 42,
   "metadata": {},
   "outputs": [
    {
     "name": "stdout",
     "output_type": "stream",
     "text": [
      "Confusion Matrix Logistic : \n",
      " [[1412   43]\n",
      " [ 733   62]]\n"
     ]
    }
   ],
   "source": [
    "# Confusion Matrix for Logistic Regression\n",
    "\n",
    "cm = confusion_matrix(y_test, prediction) \n",
    "print (\"Confusion Matrix Logistic : \\n\", cm) "
   ]
  },
  {
   "cell_type": "code",
   "execution_count": 43,
   "metadata": {},
   "outputs": [
    {
     "data": {
      "image/png": "[encoded data removed]",
      "text/plain": [
       "<Figure size 432x288 with 1 Axes>"
      ]
     },
     "metadata": {
      "needs_background": "light"
     },
     "output_type": "display_data"
    }
   ],
   "source": [
    "# ROC curve for Logictic Regression\n",
    "\n",
    "logit_roc_auc = roc_auc_score(y_test, prediction)\n",
    "fpr, tpr, thresholds = roc_curve(y_test, model.predict(X_test_imp))\n",
    "plt.figure()\n",
    "plt.plot(fpr, tpr, label='Logistic Regression (area = %0.2f)' % logit_roc_auc)\n",
    "plt.plot([0, 1], [0, 1],'r--')\n",
    "plt.xlim([0.0, 1.0])\n",
    "plt.ylim([0.0, 1.05])\n",
    "plt.xlabel('False Positive Rate')\n",
    "plt.ylabel('True Positive Rate')\n",
    "plt.title('Receiver operating characteristic ROC')\n",
    "plt.legend(loc=\"lower right\")\n",
    "\n",
    "plt.show()"
   ]
  },
  {
   "cell_type": "code",
   "execution_count": 44,
   "metadata": {},
   "outputs": [],
   "source": [
    "# Saved the logictic Regression Model \n",
    "\n",
    "with open(\"log_model\",\"wb\") as f:\n",
    "    pickle.dump(model,f)"
   ]
  },
  {
   "cell_type": "markdown",
   "metadata": {},
   "source": [
    "# # Removing multicollinearity and interpretations"
   ]
  },
  {
   "cell_type": "code",
   "execution_count": 45,
   "metadata": {},
   "outputs": [
    {
     "data": {
      "text/plain": [
       "AgeOldestIdentityRecord              132\n",
       "AgeOldestAccount                    1340\n",
       "AgeNewestAutoAccount                4964\n",
       "TotalInquiries                       410\n",
       "AvgAgeAutoAccounts                  4964\n",
       "TotalAutoAccountsNeverDelinquent    4964\n",
       "WorstDelinquency                    1317\n",
       "HasInquiryTelecomm                    76\n",
       "dtype: int64"
      ]
     },
     "execution_count": 45,
     "metadata": {},
     "output_type": "execute_result"
    }
   ],
   "source": [
    "X.isnull().sum()"
   ]
  },
  {
   "cell_type": "code",
   "execution_count": 46,
   "metadata": {},
   "outputs": [
    {
     "data": {
      "text/html": [
       "<style  type=\"text/css\" >\n",
       "#T_372b3_row0_col0,#T_372b3_row1_col1,#T_372b3_row2_col2,#T_372b3_row3_col3,#T_372b3_row4_col4,#T_372b3_row5_col5,#T_372b3_row6_col6{\n",
       "            background-color:  #b40426;\n",
       "            color:  #f1f1f1;\n",
       "        }#T_372b3_row0_col1{\n",
       "            background-color:  #edd2c3;\n",
       "            color:  #000000;\n",
       "        }#T_372b3_row0_col2{\n",
       "            background-color:  #d5dbe5;\n",
       "            color:  #000000;\n",
       "        }#T_372b3_row0_col3,#T_372b3_row0_col6,#T_372b3_row1_col6{\n",
       "            background-color:  #6384eb;\n",
       "            color:  #000000;\n",
       "        }#T_372b3_row0_col4{\n",
       "            background-color:  #e1dad6;\n",
       "            color:  #000000;\n",
       "        }#T_372b3_row0_col5{\n",
       "            background-color:  #9bbcff;\n",
       "            color:  #000000;\n",
       "        }#T_372b3_row1_col0,#T_372b3_row1_col4{\n",
       "            background-color:  #eed0c0;\n",
       "            color:  #000000;\n",
       "        }#T_372b3_row1_col2,#T_372b3_row4_col0{\n",
       "            background-color:  #d9dce1;\n",
       "            color:  #000000;\n",
       "        }#T_372b3_row1_col3{\n",
       "            background-color:  #688aef;\n",
       "            color:  #000000;\n",
       "        }#T_372b3_row1_col5{\n",
       "            background-color:  #abc8fd;\n",
       "            color:  #000000;\n",
       "        }#T_372b3_row2_col0{\n",
       "            background-color:  #97b8ff;\n",
       "            color:  #000000;\n",
       "        }#T_372b3_row2_col1,#T_372b3_row3_col5{\n",
       "            background-color:  #9abbff;\n",
       "            color:  #000000;\n",
       "        }#T_372b3_row2_col3,#T_372b3_row2_col5,#T_372b3_row3_col0,#T_372b3_row3_col1,#T_372b3_row3_col4,#T_372b3_row5_col2,#T_372b3_row5_col6,#T_372b3_row6_col1{\n",
       "            background-color:  #3b4cc0;\n",
       "            color:  #f1f1f1;\n",
       "        }#T_372b3_row2_col4{\n",
       "            background-color:  #e8765c;\n",
       "            color:  #000000;\n",
       "        }#T_372b3_row2_col6{\n",
       "            background-color:  #4055c8;\n",
       "            color:  #f1f1f1;\n",
       "        }#T_372b3_row3_col2,#T_372b3_row3_col6{\n",
       "            background-color:  #6c8ff1;\n",
       "            color:  #000000;\n",
       "        }#T_372b3_row4_col1{\n",
       "            background-color:  #e8d6cc;\n",
       "            color:  #000000;\n",
       "        }#T_372b3_row4_col2{\n",
       "            background-color:  #df634e;\n",
       "            color:  #000000;\n",
       "        }#T_372b3_row4_col3{\n",
       "            background-color:  #506bda;\n",
       "            color:  #000000;\n",
       "        }#T_372b3_row4_col5{\n",
       "            background-color:  #86a9fc;\n",
       "            color:  #000000;\n",
       "        }#T_372b3_row4_col6{\n",
       "            background-color:  #516ddb;\n",
       "            color:  #000000;\n",
       "        }#T_372b3_row5_col0{\n",
       "            background-color:  #4358cb;\n",
       "            color:  #f1f1f1;\n",
       "        }#T_372b3_row5_col1{\n",
       "            background-color:  #536edd;\n",
       "            color:  #000000;\n",
       "        }#T_372b3_row5_col3{\n",
       "            background-color:  #6a8bef;\n",
       "            color:  #000000;\n",
       "        }#T_372b3_row5_col4,#T_372b3_row6_col0{\n",
       "            background-color:  #3e51c5;\n",
       "            color:  #f1f1f1;\n",
       "        }#T_372b3_row6_col2{\n",
       "            background-color:  #779af7;\n",
       "            color:  #000000;\n",
       "        }#T_372b3_row6_col3,#T_372b3_row6_col5{\n",
       "            background-color:  #7093f3;\n",
       "            color:  #000000;\n",
       "        }#T_372b3_row6_col4{\n",
       "            background-color:  #3f53c6;\n",
       "            color:  #f1f1f1;\n",
       "        }</style><table id=\"T_372b3_\" ><thead>    <tr>        <th class=\"blank level0\" ></th>        <th class=\"col_heading level0 col0\" >AgeOldestIdentityRecord</th>        <th class=\"col_heading level0 col1\" >AgeOldestAccount</th>        <th class=\"col_heading level0 col2\" >AgeNewestAutoAccount</th>        <th class=\"col_heading level0 col3\" >TotalInquiries</th>        <th class=\"col_heading level0 col4\" >AvgAgeAutoAccounts</th>        <th class=\"col_heading level0 col5\" >TotalAutoAccountsNeverDelinquent</th>        <th class=\"col_heading level0 col6\" >WorstDelinquency</th>    </tr></thead><tbody>\n",
       "                <tr>\n",
       "                        <th id=\"T_372b3_level0_row0\" class=\"row_heading level0 row0\" >AgeOldestIdentityRecord</th>\n",
       "                        <td id=\"T_372b3_row0_col0\" class=\"data row0 col0\" >1.00</td>\n",
       "                        <td id=\"T_372b3_row0_col1\" class=\"data row0 col1\" >0.61</td>\n",
       "                        <td id=\"T_372b3_row0_col2\" class=\"data row0 col2\" >0.33</td>\n",
       "                        <td id=\"T_372b3_row0_col3\" class=\"data row0 col3\" >0.08</td>\n",
       "                        <td id=\"T_372b3_row0_col4\" class=\"data row0 col4\" >0.53</td>\n",
       "                        <td id=\"T_372b3_row0_col5\" class=\"data row0 col5\" >0.10</td>\n",
       "                        <td id=\"T_372b3_row0_col6\" class=\"data row0 col6\" >0.09</td>\n",
       "            </tr>\n",
       "            <tr>\n",
       "                        <th id=\"T_372b3_level0_row1\" class=\"row_heading level0 row1\" >AgeOldestAccount</th>\n",
       "                        <td id=\"T_372b3_row1_col0\" class=\"data row1 col0\" >0.61</td>\n",
       "                        <td id=\"T_372b3_row1_col1\" class=\"data row1 col1\" >1.00</td>\n",
       "                        <td id=\"T_372b3_row1_col2\" class=\"data row1 col2\" >0.35</td>\n",
       "                        <td id=\"T_372b3_row1_col3\" class=\"data row1 col3\" >0.09</td>\n",
       "                        <td id=\"T_372b3_row1_col4\" class=\"data row1 col4\" >0.58</td>\n",
       "                        <td id=\"T_372b3_row1_col5\" class=\"data row1 col5\" >0.16</td>\n",
       "                        <td id=\"T_372b3_row1_col6\" class=\"data row1 col6\" >0.09</td>\n",
       "            </tr>\n",
       "            <tr>\n",
       "                        <th id=\"T_372b3_level0_row2\" class=\"row_heading level0 row2\" >AgeNewestAutoAccount</th>\n",
       "                        <td id=\"T_372b3_row2_col0\" class=\"data row2 col0\" >0.33</td>\n",
       "                        <td id=\"T_372b3_row2_col1\" class=\"data row2 col1\" >0.35</td>\n",
       "                        <td id=\"T_372b3_row2_col2\" class=\"data row2 col2\" >1.00</td>\n",
       "                        <td id=\"T_372b3_row2_col3\" class=\"data row2 col3\" >-0.06</td>\n",
       "                        <td id=\"T_372b3_row2_col4\" class=\"data row2 col4\" >0.83</td>\n",
       "                        <td id=\"T_372b3_row2_col5\" class=\"data row2 col5\" >-0.26</td>\n",
       "                        <td id=\"T_372b3_row2_col6\" class=\"data row2 col6\" >-0.03</td>\n",
       "            </tr>\n",
       "            <tr>\n",
       "                        <th id=\"T_372b3_level0_row3\" class=\"row_heading level0 row3\" >TotalInquiries</th>\n",
       "                        <td id=\"T_372b3_row3_col0\" class=\"data row3 col0\" >0.08</td>\n",
       "                        <td id=\"T_372b3_row3_col1\" class=\"data row3 col1\" >0.09</td>\n",
       "                        <td id=\"T_372b3_row3_col2\" class=\"data row3 col2\" >-0.06</td>\n",
       "                        <td id=\"T_372b3_row3_col3\" class=\"data row3 col3\" >1.00</td>\n",
       "                        <td id=\"T_372b3_row3_col4\" class=\"data row3 col4\" >0.02</td>\n",
       "                        <td id=\"T_372b3_row3_col5\" class=\"data row3 col5\" >0.10</td>\n",
       "                        <td id=\"T_372b3_row3_col6\" class=\"data row3 col6\" >0.12</td>\n",
       "            </tr>\n",
       "            <tr>\n",
       "                        <th id=\"T_372b3_level0_row4\" class=\"row_heading level0 row4\" >AvgAgeAutoAccounts</th>\n",
       "                        <td id=\"T_372b3_row4_col0\" class=\"data row4 col0\" >0.53</td>\n",
       "                        <td id=\"T_372b3_row4_col1\" class=\"data row4 col1\" >0.58</td>\n",
       "                        <td id=\"T_372b3_row4_col2\" class=\"data row4 col2\" >0.83</td>\n",
       "                        <td id=\"T_372b3_row4_col3\" class=\"data row4 col3\" >0.02</td>\n",
       "                        <td id=\"T_372b3_row4_col4\" class=\"data row4 col4\" >1.00</td>\n",
       "                        <td id=\"T_372b3_row4_col5\" class=\"data row4 col5\" >0.03</td>\n",
       "                        <td id=\"T_372b3_row4_col6\" class=\"data row4 col6\" >0.03</td>\n",
       "            </tr>\n",
       "            <tr>\n",
       "                        <th id=\"T_372b3_level0_row5\" class=\"row_heading level0 row5\" >TotalAutoAccountsNeverDelinquent</th>\n",
       "                        <td id=\"T_372b3_row5_col0\" class=\"data row5 col0\" >0.10</td>\n",
       "                        <td id=\"T_372b3_row5_col1\" class=\"data row5 col1\" >0.16</td>\n",
       "                        <td id=\"T_372b3_row5_col2\" class=\"data row5 col2\" >-0.26</td>\n",
       "                        <td id=\"T_372b3_row5_col3\" class=\"data row5 col3\" >0.10</td>\n",
       "                        <td id=\"T_372b3_row5_col4\" class=\"data row5 col4\" >0.03</td>\n",
       "                        <td id=\"T_372b3_row5_col5\" class=\"data row5 col5\" >1.00</td>\n",
       "                        <td id=\"T_372b3_row5_col6\" class=\"data row5 col6\" >-0.05</td>\n",
       "            </tr>\n",
       "            <tr>\n",
       "                        <th id=\"T_372b3_level0_row6\" class=\"row_heading level0 row6\" >WorstDelinquency</th>\n",
       "                        <td id=\"T_372b3_row6_col0\" class=\"data row6 col0\" >0.09</td>\n",
       "                        <td id=\"T_372b3_row6_col1\" class=\"data row6 col1\" >0.09</td>\n",
       "                        <td id=\"T_372b3_row6_col2\" class=\"data row6 col2\" >-0.03</td>\n",
       "                        <td id=\"T_372b3_row6_col3\" class=\"data row6 col3\" >0.12</td>\n",
       "                        <td id=\"T_372b3_row6_col4\" class=\"data row6 col4\" >0.03</td>\n",
       "                        <td id=\"T_372b3_row6_col5\" class=\"data row6 col5\" >-0.05</td>\n",
       "                        <td id=\"T_372b3_row6_col6\" class=\"data row6 col6\" >1.00</td>\n",
       "            </tr>\n",
       "    </tbody></table>"
      ],
      "text/plain": [
       "<pandas.io.formats.style.Styler at 0x29123298308>"
      ]
     },
     "execution_count": 46,
     "metadata": {},
     "output_type": "execute_result"
    }
   ],
   "source": [
    "# Generating Correlation plot\n",
    "corrMatrix = X_imp.corr()\n",
    "corrMatrix.style.background_gradient(cmap='coolwarm').set_precision(2)"
   ]
  },
  {
   "cell_type": "code",
   "execution_count": 47,
   "metadata": {},
   "outputs": [
    {
     "data": {
      "text/html": [
       "<div>\n",
       "<style scoped>\n",
       "    .dataframe tbody tr th:only-of-type {\n",
       "        vertical-align: middle;\n",
       "    }\n",
       "\n",
       "    .dataframe tbody tr th {\n",
       "        vertical-align: top;\n",
       "    }\n",
       "\n",
       "    .dataframe thead th {\n",
       "        text-align: right;\n",
       "    }\n",
       "</style>\n",
       "<table border=\"1\" class=\"dataframe\">\n",
       "  <thead>\n",
       "    <tr style=\"text-align: right;\">\n",
       "      <th></th>\n",
       "      <th>features</th>\n",
       "      <th>vif</th>\n",
       "    </tr>\n",
       "  </thead>\n",
       "  <tbody>\n",
       "    <tr>\n",
       "      <th>0</th>\n",
       "      <td>AgeOldestIdentityRecord</td>\n",
       "      <td>5.205413</td>\n",
       "    </tr>\n",
       "    <tr>\n",
       "      <th>1</th>\n",
       "      <td>AgeOldestAccount</td>\n",
       "      <td>4.657161</td>\n",
       "    </tr>\n",
       "    <tr>\n",
       "      <th>2</th>\n",
       "      <td>AgeNewestAutoAccount</td>\n",
       "      <td>3.552827</td>\n",
       "    </tr>\n",
       "    <tr>\n",
       "      <th>3</th>\n",
       "      <td>TotalInquiries</td>\n",
       "      <td>1.206420</td>\n",
       "    </tr>\n",
       "    <tr>\n",
       "      <th>4</th>\n",
       "      <td>AvgAgeAutoAccounts</td>\n",
       "      <td>5.742127</td>\n",
       "    </tr>\n",
       "    <tr>\n",
       "      <th>5</th>\n",
       "      <td>TotalAutoAccountsNeverDelinquent</td>\n",
       "      <td>1.676406</td>\n",
       "    </tr>\n",
       "    <tr>\n",
       "      <th>6</th>\n",
       "      <td>WorstDelinquency</td>\n",
       "      <td>1.682989</td>\n",
       "    </tr>\n",
       "    <tr>\n",
       "      <th>7</th>\n",
       "      <td>HasInquiryTelecomm</td>\n",
       "      <td>1.071474</td>\n",
       "    </tr>\n",
       "  </tbody>\n",
       "</table>\n",
       "</div>"
      ],
      "text/plain": [
       "                           features       vif\n",
       "0           AgeOldestIdentityRecord  5.205413\n",
       "1                  AgeOldestAccount  4.657161\n",
       "2              AgeNewestAutoAccount  3.552827\n",
       "3                    TotalInquiries  1.206420\n",
       "4                AvgAgeAutoAccounts  5.742127\n",
       "5  TotalAutoAccountsNeverDelinquent  1.676406\n",
       "6                  WorstDelinquency  1.682989\n",
       "7                HasInquiryTelecomm  1.071474"
      ]
     },
     "execution_count": 47,
     "metadata": {},
     "output_type": "execute_result"
    }
   ],
   "source": [
    "# Calculating Variance Inflation Factor\n",
    "\n",
    "VIF=pd.DataFrame({'features':X_train_imp.columns})\n",
    "VIF[\"vif\"] = [variance_inflation_factor(X_train_imp.values, i) \n",
    "                          for i in range(len(X_train_imp.columns))] \n",
    "VIF"
   ]
  },
  {
   "cell_type": "code",
   "execution_count": 48,
   "metadata": {},
   "outputs": [
    {
     "name": "stdout",
     "output_type": "stream",
     "text": [
      "Optimization terminated successfully.\n",
      "         Current function value: 0.635716\n",
      "         Iterations 5\n"
     ]
    }
   ],
   "source": [
    "# Dropped the AvgAgeAutoAccounts column to avoid Multicollinearity issue in interpretations\n",
    "\n",
    "corrected_model=smf.logit(formula='''FirstYearDelinquency~AgeOldestIdentityRecord+AgeOldestAccount+AgeNewestAutoAccount\n",
    "                                +TotalInquiries+ TotalAutoAccountsNeverDelinquent +WorstDelinquency+ \n",
    "                                HasInquiryTelecomm''',data=data).fit()"
   ]
  },
  {
   "cell_type": "code",
   "execution_count": 49,
   "metadata": {
    "scrolled": true
   },
   "outputs": [
    {
     "name": "stdout",
     "output_type": "stream",
     "text": [
      "                            Logit Regression Results                            \n",
      "================================================================================\n",
      "Dep. Variable:     FirstYearDelinquency   No. Observations:                 9000\n",
      "Model:                            Logit   Df Residuals:                     8992\n",
      "Method:                             MLE   Df Model:                            7\n",
      "Date:                  Sun, 20 Jun 2021   Pseudo R-squ.:                 0.02140\n",
      "Time:                          15:45:32   Log-Likelihood:                -5721.4\n",
      "converged:                         True   LL-Null:                       -5846.6\n",
      "Covariance Type:              nonrobust   LLR p-value:                 2.424e-50\n",
      "====================================================================================================\n",
      "                                       coef    std err          z      P>|z|      [0.025      0.975]\n",
      "----------------------------------------------------------------------------------------------------\n",
      "Intercept                           -0.3511      0.065     -5.426      0.000      -0.478      -0.224\n",
      "HasInquiryTelecomm[T.1.0]            0.3511      0.081      4.340      0.000       0.193       0.510\n",
      "AgeOldestIdentityRecord             -0.0011      0.000     -4.603      0.000      -0.002      -0.001\n",
      "AgeOldestAccount                    -0.0014      0.000     -4.199      0.000      -0.002      -0.001\n",
      "AgeNewestAutoAccount                -0.0019      0.001     -3.033      0.002      -0.003      -0.001\n",
      "TotalInquiries                       0.2122      0.029      7.247      0.000       0.155       0.270\n",
      "TotalAutoAccountsNeverDelinquent    -0.0296      0.016     -1.821      0.069      -0.062       0.002\n",
      "WorstDelinquency                     0.0010      0.000      8.505      0.000       0.001       0.001\n",
      "====================================================================================================\n"
     ]
    }
   ],
   "source": [
    "# Corrected Model Summary\n",
    "\n",
    "print(corrected_model.summary())"
   ]
  },
  {
   "cell_type": "markdown",
   "metadata": {},
   "source": [
    "# Normalizing and Predictor Importance"
   ]
  },
  {
   "cell_type": "code",
   "execution_count": 50,
   "metadata": {},
   "outputs": [],
   "source": [
    "# Normalizing continuous variables using standard scalar\n",
    "\n",
    "sc=StandardScaler()\n",
    "data_norm_arr=sc.fit_transform(data.reset_index(drop=True).iloc[:,:7])"
   ]
  },
  {
   "cell_type": "code",
   "execution_count": 51,
   "metadata": {},
   "outputs": [],
   "source": [
    "data_norm=pd.concat([pd.DataFrame(data_norm_arr,columns=data.columns[:7].tolist()),data.reset_index(drop=True).iloc[:,7:]],axis=1)"
   ]
  },
  {
   "cell_type": "code",
   "execution_count": 52,
   "metadata": {},
   "outputs": [
    {
     "data": {
      "text/html": [
       "<div>\n",
       "<style scoped>\n",
       "    .dataframe tbody tr th:only-of-type {\n",
       "        vertical-align: middle;\n",
       "    }\n",
       "\n",
       "    .dataframe tbody tr th {\n",
       "        vertical-align: top;\n",
       "    }\n",
       "\n",
       "    .dataframe thead th {\n",
       "        text-align: right;\n",
       "    }\n",
       "</style>\n",
       "<table border=\"1\" class=\"dataframe\">\n",
       "  <thead>\n",
       "    <tr style=\"text-align: right;\">\n",
       "      <th></th>\n",
       "      <th>AgeOldestIdentityRecord</th>\n",
       "      <th>AgeOldestAccount</th>\n",
       "      <th>AgeNewestAutoAccount</th>\n",
       "      <th>TotalInquiries</th>\n",
       "      <th>AvgAgeAutoAccounts</th>\n",
       "      <th>TotalAutoAccountsNeverDelinquent</th>\n",
       "      <th>WorstDelinquency</th>\n",
       "      <th>HasInquiryTelecomm</th>\n",
       "      <th>FirstYearDelinquency</th>\n",
       "    </tr>\n",
       "  </thead>\n",
       "  <tbody>\n",
       "    <tr>\n",
       "      <th>0</th>\n",
       "      <td>0.298229</td>\n",
       "      <td>0.010146</td>\n",
       "      <td>-0.448219</td>\n",
       "      <td>-0.430104</td>\n",
       "      <td>-0.749847</td>\n",
       "      <td>-0.131673</td>\n",
       "      <td>-0.883514</td>\n",
       "      <td>0.0</td>\n",
       "      <td>1</td>\n",
       "    </tr>\n",
       "    <tr>\n",
       "      <th>1</th>\n",
       "      <td>-1.680036</td>\n",
       "      <td>2.798936</td>\n",
       "      <td>-1.184720</td>\n",
       "      <td>-0.430104</td>\n",
       "      <td>0.196471</td>\n",
       "      <td>1.269933</td>\n",
       "      <td>-0.883514</td>\n",
       "      <td>0.0</td>\n",
       "      <td>0</td>\n",
       "    </tr>\n",
       "    <tr>\n",
       "      <th>2</th>\n",
       "      <td>0.270496</td>\n",
       "      <td>0.162957</td>\n",
       "      <td>-0.658648</td>\n",
       "      <td>-0.430104</td>\n",
       "      <td>3.006749</td>\n",
       "      <td>-0.832476</td>\n",
       "      <td>1.218454</td>\n",
       "      <td>0.0</td>\n",
       "      <td>1</td>\n",
       "    </tr>\n",
       "    <tr>\n",
       "      <th>3</th>\n",
       "      <td>0.936081</td>\n",
       "      <td>1.423642</td>\n",
       "      <td>-0.132576</td>\n",
       "      <td>2.198713</td>\n",
       "      <td>-0.692495</td>\n",
       "      <td>-0.832476</td>\n",
       "      <td>1.218454</td>\n",
       "      <td>0.0</td>\n",
       "      <td>1</td>\n",
       "    </tr>\n",
       "    <tr>\n",
       "      <th>4</th>\n",
       "      <td>-0.108517</td>\n",
       "      <td>-0.244538</td>\n",
       "      <td>-0.421916</td>\n",
       "      <td>-0.430104</td>\n",
       "      <td>0.339853</td>\n",
       "      <td>-0.131673</td>\n",
       "      <td>-0.883514</td>\n",
       "      <td>0.0</td>\n",
       "      <td>1</td>\n",
       "    </tr>\n",
       "    <tr>\n",
       "      <th>...</th>\n",
       "      <td>...</td>\n",
       "      <td>...</td>\n",
       "      <td>...</td>\n",
       "      <td>...</td>\n",
       "      <td>...</td>\n",
       "      <td>...</td>\n",
       "      <td>...</td>\n",
       "      <td>...</td>\n",
       "      <td>...</td>\n",
       "    </tr>\n",
       "    <tr>\n",
       "      <th>8995</th>\n",
       "      <td>1.259629</td>\n",
       "      <td>0.341236</td>\n",
       "      <td>-1.237327</td>\n",
       "      <td>0.884305</td>\n",
       "      <td>0.597939</td>\n",
       "      <td>1.269933</td>\n",
       "      <td>-0.414654</td>\n",
       "      <td>0.0</td>\n",
       "      <td>0</td>\n",
       "    </tr>\n",
       "    <tr>\n",
       "      <th>8996</th>\n",
       "      <td>-0.154738</td>\n",
       "      <td>0.761464</td>\n",
       "      <td>1.445640</td>\n",
       "      <td>-0.430104</td>\n",
       "      <td>1.286171</td>\n",
       "      <td>-0.131673</td>\n",
       "      <td>1.218454</td>\n",
       "      <td>0.0</td>\n",
       "      <td>0</td>\n",
       "    </tr>\n",
       "    <tr>\n",
       "      <th>8997</th>\n",
       "      <td>0.002414</td>\n",
       "      <td>-0.359145</td>\n",
       "      <td>0.998479</td>\n",
       "      <td>-0.430104</td>\n",
       "      <td>0.540587</td>\n",
       "      <td>-0.832476</td>\n",
       "      <td>-0.883514</td>\n",
       "      <td>0.0</td>\n",
       "      <td>0</td>\n",
       "    </tr>\n",
       "    <tr>\n",
       "      <th>8998</th>\n",
       "      <td>-0.912765</td>\n",
       "      <td>-0.320943</td>\n",
       "      <td>-0.711255</td>\n",
       "      <td>0.884305</td>\n",
       "      <td>-0.721171</td>\n",
       "      <td>-0.131673</td>\n",
       "      <td>1.218454</td>\n",
       "      <td>0.0</td>\n",
       "      <td>0</td>\n",
       "    </tr>\n",
       "    <tr>\n",
       "      <th>8999</th>\n",
       "      <td>0.030146</td>\n",
       "      <td>-0.626564</td>\n",
       "      <td>1.656069</td>\n",
       "      <td>-0.430104</td>\n",
       "      <td>1.314847</td>\n",
       "      <td>-0.131673</td>\n",
       "      <td>1.218454</td>\n",
       "      <td>0.0</td>\n",
       "      <td>0</td>\n",
       "    </tr>\n",
       "  </tbody>\n",
       "</table>\n",
       "<p>9000 rows × 9 columns</p>\n",
       "</div>"
      ],
      "text/plain": [
       "      AgeOldestIdentityRecord  AgeOldestAccount  AgeNewestAutoAccount  \\\n",
       "0                    0.298229          0.010146             -0.448219   \n",
       "1                   -1.680036          2.798936             -1.184720   \n",
       "2                    0.270496          0.162957             -0.658648   \n",
       "3                    0.936081          1.423642             -0.132576   \n",
       "4                   -0.108517         -0.244538             -0.421916   \n",
       "...                       ...               ...                   ...   \n",
       "8995                 1.259629          0.341236             -1.237327   \n",
       "8996                -0.154738          0.761464              1.445640   \n",
       "8997                 0.002414         -0.359145              0.998479   \n",
       "8998                -0.912765         -0.320943             -0.711255   \n",
       "8999                 0.030146         -0.626564              1.656069   \n",
       "\n",
       "      TotalInquiries  AvgAgeAutoAccounts  TotalAutoAccountsNeverDelinquent  \\\n",
       "0          -0.430104           -0.749847                         -0.131673   \n",
       "1          -0.430104            0.196471                          1.269933   \n",
       "2          -0.430104            3.006749                         -0.832476   \n",
       "3           2.198713           -0.692495                         -0.832476   \n",
       "4          -0.430104            0.339853                         -0.131673   \n",
       "...              ...                 ...                               ...   \n",
       "8995        0.884305            0.597939                          1.269933   \n",
       "8996       -0.430104            1.286171                         -0.131673   \n",
       "8997       -0.430104            0.540587                         -0.832476   \n",
       "8998        0.884305           -0.721171                         -0.131673   \n",
       "8999       -0.430104            1.314847                         -0.131673   \n",
       "\n",
       "      WorstDelinquency HasInquiryTelecomm  FirstYearDelinquency  \n",
       "0            -0.883514                0.0                     1  \n",
       "1            -0.883514                0.0                     0  \n",
       "2             1.218454                0.0                     1  \n",
       "3             1.218454                0.0                     1  \n",
       "4            -0.883514                0.0                     1  \n",
       "...                ...                ...                   ...  \n",
       "8995         -0.414654                0.0                     0  \n",
       "8996          1.218454                0.0                     0  \n",
       "8997         -0.883514                0.0                     0  \n",
       "8998          1.218454                0.0                     0  \n",
       "8999          1.218454                0.0                     0  \n",
       "\n",
       "[9000 rows x 9 columns]"
      ]
     },
     "execution_count": 52,
     "metadata": {},
     "output_type": "execute_result"
    }
   ],
   "source": [
    "data_norm"
   ]
  },
  {
   "cell_type": "code",
   "execution_count": 53,
   "metadata": {},
   "outputs": [
    {
     "name": "stdout",
     "output_type": "stream",
     "text": [
      "Optimization terminated successfully.\n",
      "         Current function value: 0.635716\n",
      "         Iterations 5\n"
     ]
    }
   ],
   "source": [
    "stand_model=smf.logit(formula='''FirstYearDelinquency~AgeOldestIdentityRecord+AgeOldestAccount+AgeNewestAutoAccount\n",
    "                                +TotalInquiries+ TotalAutoAccountsNeverDelinquent +WorstDelinquency+ \n",
    "                                HasInquiryTelecomm''',data=data_norm).fit()"
   ]
  },
  {
   "cell_type": "code",
   "execution_count": 54,
   "metadata": {
    "scrolled": true
   },
   "outputs": [
    {
     "name": "stdout",
     "output_type": "stream",
     "text": [
      "                            Logit Regression Results                            \n",
      "================================================================================\n",
      "Dep. Variable:     FirstYearDelinquency   No. Observations:                 9000\n",
      "Model:                            Logit   Df Residuals:                     8992\n",
      "Method:                             MLE   Df Model:                            7\n",
      "Date:                  Sun, 20 Jun 2021   Pseudo R-squ.:                 0.02140\n",
      "Time:                          15:45:32   Log-Likelihood:                -5721.4\n",
      "converged:                         True   LL-Null:                       -5846.6\n",
      "Covariance Type:              nonrobust   LLR p-value:                 2.424e-50\n",
      "====================================================================================================\n",
      "                                       coef    std err          z      P>|z|      [0.025      0.975]\n",
      "----------------------------------------------------------------------------------------------------\n",
      "Intercept                           -0.6475      0.023    -27.639      0.000      -0.693      -0.602\n",
      "HasInquiryTelecomm[T.1.0]            0.3511      0.081      4.340      0.000       0.193       0.510\n",
      "AgeOldestIdentityRecord             -0.1180      0.026     -4.603      0.000      -0.168      -0.068\n",
      "AgeOldestAccount                    -0.1114      0.027     -4.199      0.000      -0.163      -0.059\n",
      "AgeNewestAutoAccount                -0.0705      0.023     -3.033      0.002      -0.116      -0.025\n",
      "TotalInquiries                       0.1614      0.022      7.247      0.000       0.118       0.205\n",
      "TotalAutoAccountsNeverDelinquent    -0.0423      0.023     -1.821      0.069      -0.088       0.003\n",
      "WorstDelinquency                     0.1902      0.022      8.505      0.000       0.146       0.234\n",
      "====================================================================================================\n"
     ]
    }
   ],
   "source": [
    "print(stand_model.summary())"
   ]
  },
  {
   "cell_type": "markdown",
   "metadata": {},
   "source": [
    "# 3 Split up the dataset by the WorstDelinquency variable. Run a regression of FirstYearDelinquency ~ TotalInquiries. \n",
    "\n",
    "# Extract the predictor's coefficient and p-value from each model. Combine the results in a list where the names of the list correspond to the values of WorstDelinquency.\n"
   ]
  },
  {
   "cell_type": "code",
   "execution_count": 55,
   "metadata": {},
   "outputs": [
    {
     "name": "stdout",
     "output_type": "stream",
     "text": [
      "Optimization terminated successfully.\n",
      "         Current function value: 0.616142\n",
      "         Iterations 5\n",
      "Optimization terminated successfully.\n",
      "         Current function value: 0.673476\n",
      "         Iterations 4\n",
      "Optimization terminated successfully.\n",
      "         Current function value: 0.644150\n",
      "         Iterations 4\n",
      "Optimization terminated successfully.\n",
      "         Current function value: 0.625468\n",
      "         Iterations 5\n",
      "Optimization terminated successfully.\n",
      "         Current function value: 0.632053\n",
      "         Iterations 5\n",
      "Optimization terminated successfully.\n",
      "         Current function value: 0.665560\n",
      "         Iterations 4\n"
     ]
    }
   ],
   "source": [
    "# Spliting dataset by WorstDelinquency variable and regression of FirstYearDelinquency ~ TotalInquiries\n",
    "\n",
    "output={\"WorstDelinquency\":[],\"pvalues\":[],\"coefficients\":[]}\n",
    "\n",
    "for i in data[\"WorstDelinquency\"].unique().tolist():\n",
    "    \n",
    "    output[\"WorstDelinquency\"].append(i)\n",
    "    model_part=smf.logit(formula='''FirstYearDelinquency~TotalInquiries''',data=data[data[\"WorstDelinquency\"]==i]).fit()\n",
    "    output[\"pvalues\"].append(model_part.pvalues[\"TotalInquiries\"])  \n",
    "    output[\"coefficients\"].append(model_part.params[\"TotalInquiries\"])"
   ]
  },
  {
   "cell_type": "code",
   "execution_count": 62,
   "metadata": {},
   "outputs": [
    {
     "name": "stdout",
     "output_type": "stream",
     "text": [
      "   WorstDelinquency   pvalues  coefficients\n",
      "0               1.0  0.000045      0.225020\n",
      "1              30.0  0.025120      0.229217\n",
      "2              60.0  0.001744      0.439385\n",
      "3              90.0  0.278157      0.151050\n",
      "4             120.0  0.761430      0.044755\n",
      "5             400.0  0.000035      0.164943\n"
     ]
    }
   ],
   "source": [
    "# predictor's coefficient and p-value from each model\n",
    "\n",
    "print(pd.DataFrame(output).sort_values([\"WorstDelinquency\"],ignore_index=True))"
   ]
  },
  {
   "cell_type": "markdown",
   "metadata": {},
   "source": [
    "# 4 Prepare a scoring function to use your predictive model(s) in a production environment. To do this, you will need to accomplish the following:\n",
    "\n",
    "-\tIngest new loans for scoring. You may assume that new records are received in batches in the same .csv format as the \"account-defaults.csv\" dataset.\n",
    "-\tPerform any required data preprocessing steps such as missing imputation.\n",
    "-\tScore the preprocessed input data using your model(s).\n",
    "-\tOutput the scores so your business partners can match the scores to the new loans.\n"
   ]
  },
  {
   "cell_type": "code",
   "execution_count": 57,
   "metadata": {},
   "outputs": [],
   "source": [
    "#created a random test sample \n",
    "accounts.drop(columns=\"FirstYearDelinquency\").sample(frac=0.2,random_state=42).to_csv(\"new_data.csv\",index = False)"
   ]
  },
  {
   "cell_type": "code",
   "execution_count": 58,
   "metadata": {},
   "outputs": [],
   "source": [
    "#Removed ID column\n",
    "new_data=pd.read_csv(\"new_data.csv\")\n",
    "new_data_1=new_data.drop(columns=\"ID\")"
   ]
  },
  {
   "cell_type": "code",
   "execution_count": 59,
   "metadata": {},
   "outputs": [],
   "source": [
    "#Imputed data using trained MICE algorithm\n",
    "\n",
    "with open('impute_kernel_train','rb') as f:\n",
    "    kernel=pickle.load(f)\n",
    "\n",
    "new_data_imp=kernel.impute_new_data(new_data_1).complete_data()"
   ]
  },
  {
   "cell_type": "code",
   "execution_count": 60,
   "metadata": {},
   "outputs": [],
   "source": [
    "#loaded trained logistic Regression model and genrated probabilities for new data \n",
    "\n",
    "with open(\"log_model\",\"rb\") as f:\n",
    "    log_model=pickle.load(f)\n",
    "    \n",
    "prob=pd.DataFrame(log_model.predict(new_data_imp),columns=[\"Prob_del\"])"
   ]
  },
  {
   "cell_type": "code",
   "execution_count": 63,
   "metadata": {},
   "outputs": [],
   "source": [
    "# Mergred resultant probabilities with original data \n",
    "pd.concat([new_data,prob],axis=1).sort_values([\"Prob_del\"]).to_csv(\"output.csv\",index=False)"
   ]
  }
 ],
 "metadata": {
  "kernelspec": {
   "display_name": "Python 3",
   "language": "python",
   "name": "python3"
  },
  "language_info": {
   "codemirror_mode": {
    "name": "ipython",
    "version": 3
   },
   "file_extension": ".py",
   "mimetype": "text/x-python",
   "name": "python",
   "nbconvert_exporter": "python",
   "pygments_lexer": "ipython3",
   "version": "3.7.4"
  }
 },
 "nbformat": 4,
 "nbformat_minor": 2
}
